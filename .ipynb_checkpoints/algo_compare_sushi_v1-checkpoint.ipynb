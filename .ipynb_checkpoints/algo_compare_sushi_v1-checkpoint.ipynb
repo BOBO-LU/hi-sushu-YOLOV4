{
 "cells": [
  {
   "cell_type": "code",
   "execution_count": 20,
   "id": "f2d1e2a4",
   "metadata": {},
   "outputs": [],
   "source": [
    "import numpy as np\n",
    "from datetime import datetime\n",
    "import random"
   ]
  },
  {
   "cell_type": "markdown",
   "id": "e3242e31",
   "metadata": {},
   "source": [
    "TODO:\n",
    "1. (O)把看到的壽司記下來\n",
    "2. (O)偵測狀態\n",
    "3. 模擬插入\n",
    "4. buffer time\n",
    "5. 圖形化"
   ]
  },
  {
   "cell_type": "markdown",
   "id": "b280b3fa",
   "metadata": {},
   "source": [
    "描述\n",
    "- 轉速固定，設起始時間t ，轉一圈10秒，建一個n*10的二維陣列。  \n",
    "- 在固定時間把壽司插入陣列。  \n",
    "- 如果 t + 2 秒的壽司 = t + 10秒 + 2秒的壽司，兩個壽司相同。  \n",
    "- 可以設定一個緩衝時間，如果晚了x秒偵測到，之後的都加x秒。  "
   ]
  },
  {
   "cell_type": "markdown",
   "id": "839e9561",
   "metadata": {},
   "source": [
    "條件\n",
    "1. 一圈只有一個攝影機\n",
    "2. 轉速固定，轉一圈 T 秒，每 H 秒當作一格\n",
    "3. 壽司緩衝區間 B 秒\n",
    "4. 最多可以放 D 個壽司, T * (1/H) > D\n",
    "5. 總共經歷 X 圈\n",
    "6. 有 6 種壽司，編號 1 ~ 6\n",
    "7. 有四種狀態，從第二圈開始，給出壽司比較結果 {圈數, 時間插槽, 壽司代號, 狀態}\n",
    "    1. 沒有動\n",
    "    2. 被拿走\n",
    "    3. 換了\n",
    "    4. 補了\n",
    "    5. 本來就沒有"
   ]
  },
  {
   "cell_type": "code",
   "execution_count": 35,
   "id": "68255be6",
   "metadata": {},
   "outputs": [
    {
     "data": {
      "text/plain": [
       "0.45"
      ]
     },
     "execution_count": 35,
     "metadata": {},
     "output_type": "execute_result"
    }
   ],
   "source": [
    "round(random.uniform(0,0.5),2)"
   ]
  },
  {
   "cell_type": "code",
   "execution_count": 74,
   "id": "487ec923",
   "metadata": {},
   "outputs": [],
   "source": [
    "#檢查該格有沒有壽司，有的話回傳true\n",
    "def check_sushi(round_num, time_slot):\n",
    "    return not sushi_history[round_num][time_slot] == 0\n",
    "\n",
    "# 插入壽司\n",
    "def insert_sushi(round_num, time_slot, sushi_id):\n",
    "    sushi_history[round_num][time_slot] = sushi_id\n",
    "\n",
    "# 移除壽司\n",
    "def remove_sushi(round_num, time_slot):\n",
    "    sushi_history[round_num][time_slot] = 0\n",
    "\n",
    "# 把某個位置後面所有相連的壽司往後推一格\n",
    "def shift_sushi():\n",
    "    pass\n",
    "\n",
    "# 比較兩個壽司的狀態\n",
    "def compare_sushi(first, second):\n",
    "    # 第二圈有壽司\n",
    "    if second != 0:\n",
    "        if first == second: #壽司沒有動\n",
    "            return 1\n",
    "        elif first == 0: #壽司多了\n",
    "            return 4\n",
    "        else: \n",
    "            return 3 #壽司換了\n",
    "    # 第二圈沒有壽司\n",
    "    else:\n",
    "        if first != 0: #壽司被拿走了\n",
    "            return 2 \n",
    "        else: #本來就沒有壽司，第二圈也沒有\n",
    "                return 5 \n",
    "    print('ERROR: compare_sushi out of index')\n",
    "    return 99\n",
    "\n",
    "# 比較 t 和 t-1 輪的壽司並列出所有差異\n",
    "def iter_sushi(round_index):\n",
    "    if round_index < 1:\n",
    "        print(\"第一輪\")\n",
    "        return \n",
    "    print('\\n時間    :  0    1   2    3    4   5 ' )\n",
    "    for i in range(round_index-1, round_index+1):\n",
    "        print('第', i, '輪', end=\" : \")\n",
    "        for j in sushi_history[i]:\n",
    "            print(SUSHI[j], end=\" \")\n",
    "        print()\n",
    "    print(\"-\"*16)\n",
    "    #遍歷每個時間插槽\n",
    "    for sushi_index, (first, second) in enumerate(zip(sushi_history[round_index-1], sushi_history[round_index])): \n",
    "        status_res = compare_sushi(first, second)\n",
    "        if status_res <= 4 and status_res >=1: #確保是四種狀況之一\n",
    "            if status_res == 4:\n",
    "                print(\"時間\"+str(sushi_index)+\" \",  SUSHI[first], STATUS[status_res], SUSHI[second], sep=\"\")\n",
    "            else:\n",
    "                print(\"時間\"+str(sushi_index)+\" \",  SUSHI[first], STATUS[status_res], sep=\"\")\n",
    "\n",
    "# 模擬壽司拿放的狀態\n",
    "def simulate_sushi(total_sec):\n",
    "    if total_sec > T * X:\n",
    "        print(total_sec, T*X)\n",
    "        print('error: TOTAL_SEC larger than all the slot')\n",
    "        return 0\n",
    "    rnd = 0 #第幾輪\n",
    "    for sec in range(total_sec): # iter每一秒\n",
    "        position = sec % 6 \n",
    "        prob = random.randint(0,1) \n",
    "        \n",
    "        #有一定的機率，且有壽司，則拿走\n",
    "        if prob == 1 and check_sushi(rnd, position):\n",
    "            remove_sushi(rnd, position)\n",
    "            \n",
    "        #IF 拿走，有一定的機率擺放壽司\n",
    "        else:\n",
    "#             latancy = round(random.uniform(0,H/2),2) #設一個低於time window的延遲\n",
    "            sushi_id = random.randint(0, 6)\n",
    "            insert_sushi(rnd, position, sushi_id)\n",
    "\n",
    "        if position%T == 0 and sec != 0:\n",
    "            rnd += 1\n",
    "    print(sushi_history)"
   ]
  },
  {
   "cell_type": "code",
   "execution_count": 13,
   "id": "c65d621e",
   "metadata": {},
   "outputs": [
    {
     "data": {
      "text/plain": [
       "array([[0, 0, 0, 0, 0, 0],\n",
       "       [0, 0, 0, 0, 0, 0],\n",
       "       [0, 0, 0, 0, 0, 0]])"
      ]
     },
     "execution_count": 13,
     "metadata": {},
     "output_type": "execute_result"
    }
   ],
   "source": [
    "T = 6\n",
    "H = 1\n",
    "B = 0.5\n",
    "D = 6\n",
    "X = 3\n",
    "\n",
    "SUSHI = {0:'空的', 1:'鮭魚', 2:'鮪魚', 3:'豆皮', 4:'鰻魚', 5:'花枝', 6:'干貝'}\n",
    "STATUS = {1:'壽司沒有動', 2:'壽司被拿走', 3:'壽司換了', 4:'多了', 5:'壽司本來就沒有'}\n",
    "\n",
    "#總共有幾個時間插槽\n",
    "total_bin = int(T*(1/H))\n",
    "\n",
    "#空的壽司偵測紀錄\n",
    "sushi_history = np.zeros((X, total_bin), dtype=int)\n",
    "sushi_history"
   ]
  },
  {
   "cell_type": "code",
   "execution_count": 14,
   "id": "32e63c71",
   "metadata": {},
   "outputs": [
    {
     "data": {
      "text/plain": [
       "array([[1, 2, 0, 0, 4, 6],\n",
       "       [1, 0, 3, 0, 5, 0],\n",
       "       [0, 0, 0, 0, 5, 6]])"
      ]
     },
     "execution_count": 14,
     "metadata": {},
     "output_type": "execute_result"
    }
   ],
   "source": [
    "#放上壽司\n",
    "sim = [[1, 2, 0, 0, 4, 6],\n",
    "       [1, 0, 3, 0, 5, 0],\n",
    "       [0, 0, 0, 0, 5, 6]]\n",
    "sushi_history = np.array(sim)\n",
    "sushi_history"
   ]
  },
  {
   "cell_type": "code",
   "execution_count": 54,
   "id": "9fe9ce44",
   "metadata": {},
   "outputs": [
    {
     "name": "stdout",
     "output_type": "stream",
     "text": [
      "\n",
      "時間    :  0    1   2    3    4   5 \n",
      "第 0 輪 : 空的 干貝 豆皮 花枝 鰻魚 空的 \n",
      "第 1 輪 : 空的 花枝 鰻魚 干貝 空的 空的 \n",
      "----------------\n",
      "時間1 干貝壽司換了\n",
      "時間2 豆皮壽司換了\n",
      "時間3 花枝壽司換了\n",
      "時間4 鰻魚壽司被拿走\n",
      "\n",
      "時間    :  0    1   2    3    4   5 \n",
      "第 1 輪 : 空的 花枝 鰻魚 干貝 空的 空的 \n",
      "第 2 輪 : 空的 空的 鮭魚 鰻魚 空的 空的 \n",
      "----------------\n",
      "時間1 花枝壽司被拿走\n",
      "時間2 鰻魚壽司換了\n",
      "時間3 干貝壽司換了\n"
     ]
    }
   ],
   "source": [
    "for i in range(1, len(sim)):\n",
    "    iter_sushi(i)"
   ]
  },
  {
   "cell_type": "code",
   "execution_count": 75,
   "id": "06c1c65c",
   "metadata": {},
   "outputs": [
    {
     "name": "stdout",
     "output_type": "stream",
     "text": [
      "[[3 0 5 0 0 4]\n",
      " [1 0 4 4 4 1]\n",
      " [0 1 4 5 1 0]]\n",
      "\n",
      "時間    :  0    1   2    3    4   5 \n",
      "第 0 輪 : 豆皮 空的 花枝 空的 空的 鰻魚 \n",
      "第 1 輪 : 鮭魚 空的 鰻魚 鰻魚 鰻魚 鮭魚 \n",
      "----------------\n",
      "時間0 豆皮壽司換了\n",
      "時間2 花枝壽司換了\n",
      "時間3 空的多了鰻魚\n",
      "時間4 空的多了鰻魚\n",
      "時間5 鰻魚壽司換了\n",
      "\n",
      "時間    :  0    1   2    3    4   5 \n",
      "第 1 輪 : 鮭魚 空的 鰻魚 鰻魚 鰻魚 鮭魚 \n",
      "第 2 輪 : 空的 鮭魚 鰻魚 花枝 鮭魚 空的 \n",
      "----------------\n",
      "時間0 鮭魚壽司被拿走\n",
      "時間1 空的多了鮭魚\n",
      "時間2 鰻魚壽司沒有動\n",
      "時間3 鰻魚壽司換了\n",
      "時間4 鰻魚壽司換了\n",
      "時間5 鮭魚壽司被拿走\n"
     ]
    }
   ],
   "source": [
    "simulate_sushi(18)\n",
    "for i in range(1, len(sim)):\n",
    "    iter_sushi(i)"
   ]
  },
  {
   "cell_type": "code",
   "execution_count": 76,
   "id": "e3f48104",
   "metadata": {},
   "outputs": [
    {
     "data": {
      "text/plain": [
       "{0: '空的', 1: '鮭魚', 2: '鮪魚', 3: '豆皮', 4: '鰻魚', 5: '花枝', 6: '干貝'}"
      ]
     },
     "execution_count": 76,
     "metadata": {},
     "output_type": "execute_result"
    }
   ],
   "source": [
    "SUSHIS"
   ]
  }
 ],
 "metadata": {
  "kernelspec": {
   "display_name": "Python 3",
   "language": "python",
   "name": "python3"
  },
  "language_info": {
   "codemirror_mode": {
    "name": "ipython",
    "version": 3
   },
   "file_extension": ".py",
   "mimetype": "text/x-python",
   "name": "python",
   "nbconvert_exporter": "python",
   "pygments_lexer": "ipython3",
   "version": "3.9.4"
  }
 },
 "nbformat": 4,
 "nbformat_minor": 5
}
