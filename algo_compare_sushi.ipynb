{
 "cells": [
  {
   "cell_type": "markdown",
   "id": "e1f94bef",
   "metadata": {},
   "source": [
    "條件\n",
    "1. 轉速固定，轉一圈 T 秒\n",
    "2. 一圈只有一個攝影機\n",
    "3. 最多可以放 D 個壽司\n",
    "4. "
   ]
  }
 ],
 "metadata": {
  "kernelspec": {
   "display_name": "Python 3",
   "language": "python",
   "name": "python3"
  },
  "language_info": {
   "codemirror_mode": {
    "name": "ipython",
    "version": 3
   },
   "file_extension": ".py",
   "mimetype": "text/x-python",
   "name": "python",
   "nbconvert_exporter": "python",
   "pygments_lexer": "ipython3",
   "version": "3.9.4"
  }
 },
 "nbformat": 4,
 "nbformat_minor": 5
}
